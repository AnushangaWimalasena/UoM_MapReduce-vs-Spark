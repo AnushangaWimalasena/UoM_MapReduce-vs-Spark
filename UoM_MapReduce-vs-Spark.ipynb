{
 "cells": [
  {
   "cell_type": "code",
   "execution_count": 1,
   "id": "6d7e2fd5-132d-4ac9-8375-c8440bc6ec33",
   "metadata": {
    "execution": {
     "iopub.execute_input": "2023-03-05T17:32:51.613296Z",
     "iopub.status.busy": "2023-03-05T17:32:51.613056Z",
     "iopub.status.idle": "2023-03-05T17:33:18.293888Z",
     "shell.execute_reply": "2023-03-05T17:33:18.293164Z",
     "shell.execute_reply.started": "2023-03-05T17:32:51.613270Z"
    },
    "tags": []
   },
   "outputs": [
    {
     "data": {
      "application/vnd.jupyter.widget-view+json": {
       "model_id": "33e354cb3bd34df58ac5aa4cdb8f5be6",
       "version_major": 2,
       "version_minor": 0
      },
      "text/plain": [
       "VBox()"
      ]
     },
     "metadata": {},
     "output_type": "display_data"
    },
    {
     "name": "stdout",
     "output_type": "stream",
     "text": [
      "Starting Spark application\n"
     ]
    },
    {
     "data": {
      "text/html": [
       "<table>\n",
       "<tr><th>ID</th><th>YARN Application ID</th><th>Kind</th><th>State</th><th>Spark UI</th><th>Driver log</th><th>User</th><th>Current session?</th></tr><tr><td>1</td><td>application_1678033964118_0004</td><td>pyspark</td><td>idle</td><td><a target=\"_blank\" href=\"http://ip-172-31-84-52.ec2.internal:20888/proxy/application_1678033964118_0004/\" class=\"emr-proxy-link\" emr-resource=\"j-223LJP5P5X15I\n",
       "\" application-id=\"application_1678033964118_0004\">Link</a></td><td><a target=\"_blank\" href=\"http://ip-172-31-81-67.ec2.internal:8042/node/containerlogs/container_1678033964118_0004_01_000001/livy\" >Link</a></td><td>None</td><td>✔</td></tr></table>"
      ],
      "text/plain": [
       "<IPython.core.display.HTML object>"
      ]
     },
     "metadata": {},
     "output_type": "display_data"
    },
    {
     "data": {
      "application/vnd.jupyter.widget-view+json": {
       "model_id": "",
       "version_major": 2,
       "version_minor": 0
      },
      "text/plain": [
       "FloatProgress(value=0.0, bar_style='info', description='Progress:', layout=Layout(height='25px', width='50%'),…"
      ]
     },
     "metadata": {},
     "output_type": "display_data"
    },
    {
     "name": "stdout",
     "output_type": "stream",
     "text": [
      "SparkSession available as 'spark'.\n"
     ]
    },
    {
     "data": {
      "application/vnd.jupyter.widget-view+json": {
       "model_id": "",
       "version_major": 2,
       "version_minor": 0
      },
      "text/plain": [
       "FloatProgress(value=0.0, bar_style='info', description='Progress:', layout=Layout(height='25px', width='50%'),…"
      ]
     },
     "metadata": {},
     "output_type": "display_data"
    },
    {
     "name": "stdout",
     "output_type": "stream",
     "text": [
      "<pyspark.sql.session.SparkSession object at 0x7f6a50b12890>"
     ]
    }
   ],
   "source": [
    "spark"
   ]
  },
  {
   "cell_type": "code",
   "execution_count": 2,
   "id": "f7d88691-9281-491a-9268-900560075421",
   "metadata": {
    "execution": {
     "iopub.execute_input": "2023-03-05T17:33:18.295154Z",
     "iopub.status.busy": "2023-03-05T17:33:18.294969Z",
     "iopub.status.idle": "2023-03-05T17:33:19.074257Z",
     "shell.execute_reply": "2023-03-05T17:33:19.073610Z",
     "shell.execute_reply.started": "2023-03-05T17:33:18.295130Z"
    },
    "tags": []
   },
   "outputs": [
    {
     "data": {
      "application/vnd.jupyter.widget-view+json": {
       "model_id": "04a3f7c4436e422eaf6a4539ebb04660",
       "version_major": 2,
       "version_minor": 0
      },
      "text/plain": [
       "VBox()"
      ]
     },
     "metadata": {},
     "output_type": "display_data"
    },
    {
     "data": {
      "application/vnd.jupyter.widget-view+json": {
       "model_id": "",
       "version_major": 2,
       "version_minor": 0
      },
      "text/plain": [
       "FloatProgress(value=0.0, bar_style='info', description='Progress:', layout=Layout(height='25px', width='50%'),…"
      ]
     },
     "metadata": {},
     "output_type": "display_data"
    },
    {
     "name": "stdout",
     "output_type": "stream",
     "text": [
      "aws-cfn-bootstrap (2.0)\n",
      "beautifulsoup4 (4.9.3)\n",
      "boto (2.49.0)\n",
      "click (8.1.1)\n",
      "docutils (0.14)\n",
      "jmespath (1.0.0)\n",
      "joblib (1.1.0)\n",
      "lockfile (0.11.0)\n",
      "lxml (4.8.0)\n",
      "mysqlclient (1.4.2)\n",
      "nltk (3.7)\n",
      "nose (1.3.4)\n",
      "numpy (1.20.0)\n",
      "pip (9.0.1)\n",
      "py-dateutil (2.2)\n",
      "pystache (0.5.4)\n",
      "python-daemon (2.2.3)\n",
      "python37-sagemaker-pyspark (1.4.1)\n",
      "pytz (2022.1)\n",
      "PyYAML (5.4.1)\n",
      "regex (2021.11.10)\n",
      "setuptools (28.8.0)\n",
      "simplejson (3.2.0)\n",
      "six (1.13.0)\n",
      "tqdm (4.63.1)\n",
      "wheel (0.29.0)\n",
      "windmill (1.6)\n",
      "\n",
      "DEPRECATION: The default format will switch to columns in the future. You can use --format=(legacy|columns) (or define a format=(legacy|columns) in your pip.conf under the [list] section) to disable this warning.\n",
      "You are using pip version 9.0.1, however version 23.0.1 is available.\n",
      "You should consider upgrading via the 'pip install --upgrade pip' command."
     ]
    }
   ],
   "source": [
    "sc.list_packages()"
   ]
  },
  {
   "cell_type": "code",
   "execution_count": 3,
   "id": "67bdb11a-608d-4034-a587-e34bfd8b4480",
   "metadata": {
    "collapsed": true,
    "execution": {
     "iopub.execute_input": "2023-03-05T17:33:19.075690Z",
     "iopub.status.busy": "2023-03-05T17:33:19.075502Z",
     "iopub.status.idle": "2023-03-05T17:33:48.566756Z",
     "shell.execute_reply": "2023-03-05T17:33:48.566064Z",
     "shell.execute_reply.started": "2023-03-05T17:33:19.075667Z"
    },
    "jupyter": {
     "outputs_hidden": true
    },
    "tags": []
   },
   "outputs": [
    {
     "data": {
      "application/vnd.jupyter.widget-view+json": {
       "model_id": "dde3d4c3c67b41d1a60c49adebfca47b",
       "version_major": 2,
       "version_minor": 0
      },
      "text/plain": [
       "VBox()"
      ]
     },
     "metadata": {},
     "output_type": "display_data"
    },
    {
     "data": {
      "application/vnd.jupyter.widget-view+json": {
       "model_id": "",
       "version_major": 2,
       "version_minor": 0
      },
      "text/plain": [
       "FloatProgress(value=0.0, bar_style='info', description='Progress:', layout=Layout(height='25px', width='50%'),…"
      ]
     },
     "metadata": {},
     "output_type": "display_data"
    },
    {
     "name": "stdout",
     "output_type": "stream",
     "text": [
      "Uninstalling pip-9.0.1:\n",
      "  Successfully uninstalled pip-9.0.1\n",
      "\n",
      "Requirement already satisfied: pip in /usr/lib/python3.7/site-packages (20.2.2)\n",
      "\n",
      "Collecting plotly\n",
      "  Using cached plotly-5.13.1-py2.py3-none-any.whl (15.2 MB)\n",
      "Collecting tenacity>=6.2.0\n",
      "  Using cached tenacity-8.2.2-py3-none-any.whl (24 kB)\n",
      "Installing collected packages: tenacity, plotly\n",
      "Successfully installed plotly-5.13.1 tenacity-8.2.2\n",
      "\n",
      "Collecting nbformat\n",
      "  Using cached nbformat-5.7.3-py3-none-any.whl (78 kB)\n",
      "Collecting importlib-metadata>=3.6; python_version < \"3.8\"\n",
      "  Using cached importlib_metadata-6.0.0-py3-none-any.whl (21 kB)\n",
      "Collecting jsonschema>=2.6\n",
      "  Using cached jsonschema-4.17.3-py3-none-any.whl (90 kB)\n",
      "Collecting jupyter-core\n",
      "  Using cached jupyter_core-4.12.0-py3-none-any.whl (89 kB)\n",
      "Collecting traitlets>=5.1\n",
      "  Using cached traitlets-5.9.0-py3-none-any.whl (117 kB)\n",
      "Collecting fastjsonschema\n",
      "  Using cached fastjsonschema-2.16.3-py3-none-any.whl (23 kB)\n",
      "Collecting typing-extensions>=3.6.4; python_version < \"3.8\"\n",
      "  Using cached typing_extensions-4.5.0-py3-none-any.whl (27 kB)\n",
      "Collecting zipp>=0.5\n",
      "  Using cached zipp-3.15.0-py3-none-any.whl (6.8 kB)\n",
      "Collecting pkgutil-resolve-name>=1.3.10; python_version < \"3.9\"\n",
      "  Using cached pkgutil_resolve_name-1.3.10-py3-none-any.whl (4.7 kB)\n",
      "Collecting attrs>=17.4.0\n",
      "  Using cached attrs-22.2.0-py3-none-any.whl (60 kB)\n",
      "Collecting importlib-resources>=1.4.0; python_version < \"3.9\"\n",
      "  Using cached importlib_resources-5.12.0-py3-none-any.whl (36 kB)\n",
      "Collecting pyrsistent!=0.17.0,!=0.17.1,!=0.17.2,>=0.14.0\n",
      "  Using cached pyrsistent-0.19.3-py3-none-any.whl (57 kB)\n",
      "Installing collected packages: typing-extensions, zipp, importlib-metadata, pkgutil-resolve-name, attrs, importlib-resources, pyrsistent, jsonschema, traitlets, jupyter-core, fastjsonschema, nbformat\n",
      "Successfully installed attrs-22.2.0 fastjsonschema-2.16.3 importlib-metadata-6.0.0 importlib-resources-5.12.0 jsonschema-4.17.3 jupyter-core-4.12.0 nbformat-5.7.3 pkgutil-resolve-name-1.3.10 pyrsistent-0.19.3 traitlets-5.9.0 typing-extensions-4.5.0 zipp-3.15.0\n",
      "\n",
      "You are using pip version 20.2.2, however version 23.0.1 is available.\n",
      "You should consider upgrading via the 'pip install --upgrade pip' command."
     ]
    }
   ],
   "source": [
    "sc.uninstall_package('pip')\n",
    "sc.install_pypi_package(\"pip\") \n",
    "sc.install_pypi_package(\"plotly\")\n",
    "sc.install_pypi_package(\"nbformat\")"
   ]
  },
  {
   "cell_type": "code",
   "execution_count": 31,
   "id": "d75caf7b-6e96-463f-888c-30235ed5cbca",
   "metadata": {
    "execution": {
     "iopub.execute_input": "2023-03-05T17:40:52.687956Z",
     "iopub.status.busy": "2023-03-05T17:40:52.687735Z",
     "iopub.status.idle": "2023-03-05T17:40:57.981733Z",
     "shell.execute_reply": "2023-03-05T17:40:57.981026Z",
     "shell.execute_reply.started": "2023-03-05T17:40:52.687933Z"
    }
   },
   "outputs": [
    {
     "data": {
      "application/vnd.jupyter.widget-view+json": {
       "model_id": "a2ca7211b92b4b01ab7bbf589d7652d9",
       "version_major": 2,
       "version_minor": 0
      },
      "text/plain": [
       "VBox()"
      ]
     },
     "metadata": {},
     "output_type": "display_data"
    },
    {
     "data": {
      "application/vnd.jupyter.widget-view+json": {
       "model_id": "",
       "version_major": 2,
       "version_minor": 0
      },
      "text/plain": [
       "FloatProgress(value=0.0, bar_style='info', description='Progress:', layout=Layout(height='25px', width='50%'),…"
      ]
     },
     "metadata": {},
     "output_type": "display_data"
    },
    {
     "name": "stdout",
     "output_type": "stream",
     "text": [
      "Collecting matplotlib\n",
      "  Downloading matplotlib-3.5.3-cp37-cp37m-manylinux_2_5_x86_64.manylinux1_x86_64.whl (11.2 MB)\n",
      "Requirement already satisfied: numpy>=1.17 in /usr/local/lib64/python3.7/site-packages (from matplotlib) (1.20.0)\n",
      "Requirement already satisfied: packaging>=20.0 in /mnt/tmp/1678037595000-0/lib/python3.7/site-packages (from matplotlib) (23.0)\n",
      "Requirement already satisfied: python-dateutil>=2.7 in /mnt/tmp/1678037595000-0/lib/python3.7/site-packages (from matplotlib) (2.8.2)\n",
      "Collecting pyparsing>=2.2.1\n",
      "  Downloading pyparsing-3.0.9-py3-none-any.whl (98 kB)\n",
      "Collecting cycler>=0.10\n",
      "  Downloading cycler-0.11.0-py3-none-any.whl (6.4 kB)\n",
      "Collecting kiwisolver>=1.0.1\n",
      "  Downloading kiwisolver-1.4.4-cp37-cp37m-manylinux_2_5_x86_64.manylinux1_x86_64.whl (1.1 MB)\n",
      "Collecting pillow>=6.2.0\n",
      "  Downloading Pillow-9.4.0-cp37-cp37m-manylinux_2_17_x86_64.manylinux2014_x86_64.whl (3.3 MB)\n",
      "Collecting fonttools>=4.22.0\n",
      "  Downloading fonttools-4.38.0-py3-none-any.whl (965 kB)\n",
      "Requirement already satisfied: six>=1.5 in /usr/local/lib/python3.7/site-packages (from python-dateutil>=2.7->matplotlib) (1.13.0)\n",
      "Requirement already satisfied: typing-extensions; python_version < \"3.8\" in /mnt/tmp/1678037595000-0/lib/python3.7/site-packages (from kiwisolver>=1.0.1->matplotlib) (4.5.0)\n",
      "Installing collected packages: pyparsing, cycler, kiwisolver, pillow, fonttools, matplotlib\n",
      "Successfully installed cycler-0.11.0 fonttools-4.38.0 kiwisolver-1.4.4 matplotlib-3.5.3 pillow-9.4.0 pyparsing-3.0.9"
     ]
    }
   ],
   "source": [
    "sc.install_pypi_package(\"matplotlib\")"
   ]
  },
  {
   "cell_type": "code",
   "execution_count": 4,
   "id": "27e2cc33-a5a5-48c8-ae17-afcbbe0ebb94",
   "metadata": {
    "collapsed": true,
    "execution": {
     "iopub.execute_input": "2023-03-05T17:33:48.568086Z",
     "iopub.status.busy": "2023-03-05T17:33:48.567908Z",
     "iopub.status.idle": "2023-03-05T17:33:59.914168Z",
     "shell.execute_reply": "2023-03-05T17:33:59.913433Z",
     "shell.execute_reply.started": "2023-03-05T17:33:48.568058Z"
    },
    "jupyter": {
     "outputs_hidden": true
    },
    "tags": []
   },
   "outputs": [
    {
     "data": {
      "application/vnd.jupyter.widget-view+json": {
       "model_id": "d4352d07f6184bf3a003f309342899fc",
       "version_major": 2,
       "version_minor": 0
      },
      "text/plain": [
       "VBox()"
      ]
     },
     "metadata": {},
     "output_type": "display_data"
    },
    {
     "data": {
      "application/vnd.jupyter.widget-view+json": {
       "model_id": "",
       "version_major": 2,
       "version_minor": 0
      },
      "text/plain": [
       "FloatProgress(value=0.0, bar_style='info', description='Progress:', layout=Layout(height='25px', width='50%'),…"
      ]
     },
     "metadata": {},
     "output_type": "display_data"
    },
    {
     "name": "stdout",
     "output_type": "stream",
     "text": [
      "Collecting pandas\n",
      "  Using cached pandas-1.3.5-cp37-cp37m-manylinux_2_17_x86_64.manylinux2014_x86_64.whl (11.3 MB)\n",
      "Collecting python-dateutil>=2.7.3\n",
      "  Using cached python_dateutil-2.8.2-py2.py3-none-any.whl (247 kB)\n",
      "Requirement already satisfied: numpy>=1.17.3; platform_machine != \"aarch64\" and platform_machine != \"arm64\" and python_version < \"3.10\" in /usr/local/lib64/python3.7/site-packages (from pandas) (1.20.0)\n",
      "Requirement already satisfied: pytz>=2017.3 in /usr/local/lib/python3.7/site-packages (from pandas) (2022.1)\n",
      "Requirement already satisfied: six>=1.5 in /usr/local/lib/python3.7/site-packages (from python-dateutil>=2.7.3->pandas) (1.13.0)\n",
      "Installing collected packages: python-dateutil, pandas\n",
      "Successfully installed pandas-1.3.5 python-dateutil-2.8.2"
     ]
    }
   ],
   "source": [
    "sc.install_pypi_package(\"pandas\")"
   ]
  },
  {
   "cell_type": "code",
   "execution_count": 26,
   "id": "3ac9dde7-0926-42c1-a809-150d7a1e0c16",
   "metadata": {
    "execution": {
     "iopub.execute_input": "2023-03-05T17:37:49.216993Z",
     "iopub.status.busy": "2023-03-05T17:37:49.216759Z",
     "iopub.status.idle": "2023-03-05T17:37:50.510078Z",
     "shell.execute_reply": "2023-03-05T17:37:50.509253Z",
     "shell.execute_reply.started": "2023-03-05T17:37:49.216969Z"
    }
   },
   "outputs": [
    {
     "data": {
      "application/vnd.jupyter.widget-view+json": {
       "model_id": "fe299e4bf4214b1b87a9226ebd8e31a6",
       "version_major": 2,
       "version_minor": 0
      },
      "text/plain": [
       "VBox()"
      ]
     },
     "metadata": {},
     "output_type": "display_data"
    },
    {
     "data": {
      "application/vnd.jupyter.widget-view+json": {
       "model_id": "",
       "version_major": 2,
       "version_minor": 0
      },
      "text/plain": [
       "FloatProgress(value=0.0, bar_style='info', description='Progress:', layout=Layout(height='25px', width='50%'),…"
      ]
     },
     "metadata": {},
     "output_type": "display_data"
    },
    {
     "name": "stdout",
     "output_type": "stream",
     "text": [
      "Collecting packaging\n",
      "  Downloading packaging-23.0-py3-none-any.whl (42 kB)\n",
      "Installing collected packages: packaging\n",
      "Successfully installed packaging-23.0"
     ]
    }
   ],
   "source": [
    "sc.install_pypi_package(\"packaging\")"
   ]
  },
  {
   "cell_type": "code",
   "execution_count": 27,
   "id": "b50165e4-aae7-4eb1-b35a-70825bb88a37",
   "metadata": {
    "execution": {
     "iopub.execute_input": "2023-03-05T17:37:55.770612Z",
     "iopub.status.busy": "2023-03-05T17:37:55.770385Z",
     "iopub.status.idle": "2023-03-05T17:37:56.552421Z",
     "shell.execute_reply": "2023-03-05T17:37:56.551812Z",
     "shell.execute_reply.started": "2023-03-05T17:37:55.770589Z"
    },
    "tags": []
   },
   "outputs": [
    {
     "data": {
      "application/vnd.jupyter.widget-view+json": {
       "model_id": "358b1c4767b8497b961e6997f89dc5d3",
       "version_major": 2,
       "version_minor": 0
      },
      "text/plain": [
       "VBox()"
      ]
     },
     "metadata": {},
     "output_type": "display_data"
    },
    {
     "data": {
      "application/vnd.jupyter.widget-view+json": {
       "model_id": "",
       "version_major": 2,
       "version_minor": 0
      },
      "text/plain": [
       "FloatProgress(value=0.0, bar_style='info', description='Progress:', layout=Layout(height='25px', width='50%'),…"
      ]
     },
     "metadata": {},
     "output_type": "display_data"
    },
    {
     "name": "stdout",
     "output_type": "stream",
     "text": [
      "Package                    Version\n",
      "-------------------------- ----------\n",
      "attrs                      22.2.0\n",
      "aws-cfn-bootstrap          2.0\n",
      "beautifulsoup4             4.9.3\n",
      "boto                       2.49.0\n",
      "click                      8.1.1\n",
      "docutils                   0.14\n",
      "fastjsonschema             2.16.3\n",
      "importlib-metadata         6.0.0\n",
      "importlib-resources        5.12.0\n",
      "jmespath                   1.0.0\n",
      "joblib                     1.1.0\n",
      "jsonschema                 4.17.3\n",
      "jupyter-core               4.12.0\n",
      "lockfile                   0.11.0\n",
      "lxml                       4.8.0\n",
      "mysqlclient                1.4.2\n",
      "nbformat                   5.7.3\n",
      "nltk                       3.7\n",
      "nose                       1.3.4\n",
      "numpy                      1.20.0\n",
      "packaging                  23.0\n",
      "pandas                     1.3.5\n",
      "pip                        20.2.2\n",
      "pkgutil-resolve-name       1.3.10\n",
      "plotly                     5.13.1\n",
      "py-dateutil                2.2\n",
      "pyrsistent                 0.19.3\n",
      "pystache                   0.5.4\n",
      "python-daemon              2.2.3\n",
      "python-dateutil            2.8.2\n",
      "python37-sagemaker-pyspark 1.4.1\n",
      "pytz                       2022.1\n",
      "PyYAML                     5.4.1\n",
      "regex                      2021.11.10\n",
      "setuptools                 28.8.0\n",
      "simplejson                 3.2.0\n",
      "six                        1.13.0\n",
      "tenacity                   8.2.2\n",
      "tqdm                       4.63.1\n",
      "traitlets                  5.9.0\n",
      "typing-extensions          4.5.0\n",
      "wheel                      0.29.0\n",
      "windmill                   1.6\n",
      "zipp                       3.15.0"
     ]
    }
   ],
   "source": [
    "sc.list_packages()"
   ]
  },
  {
   "cell_type": "code",
   "execution_count": 6,
   "id": "58723faa-5135-4c78-be47-7dab6fa359de",
   "metadata": {
    "execution": {
     "iopub.execute_input": "2023-03-05T17:34:00.710733Z",
     "iopub.status.busy": "2023-03-05T17:34:00.710480Z",
     "iopub.status.idle": "2023-03-05T17:34:00.979994Z",
     "shell.execute_reply": "2023-03-05T17:34:00.979331Z",
     "shell.execute_reply.started": "2023-03-05T17:34:00.710697Z"
    },
    "tags": []
   },
   "outputs": [
    {
     "data": {
      "application/vnd.jupyter.widget-view+json": {
       "model_id": "189be712fa43430abf3398760cdee855",
       "version_major": 2,
       "version_minor": 0
      },
      "text/plain": [
       "VBox()"
      ]
     },
     "metadata": {},
     "output_type": "display_data"
    },
    {
     "data": {
      "application/vnd.jupyter.widget-view+json": {
       "model_id": "",
       "version_major": 2,
       "version_minor": 0
      },
      "text/plain": [
       "FloatProgress(value=0.0, bar_style='info', description='Progress:', layout=Layout(height='25px', width='50%'),…"
      ]
     },
     "metadata": {},
     "output_type": "display_data"
    }
   ],
   "source": [
    "from pyspark.sql import SparkSession, SQLContext\n",
    "from pyspark.sql.functions import udf, col\n",
    "from pyspark.sql.types import StringType\n",
    "from datetime import datetime\n",
    "from dateutil.relativedelta import relativedelta\n",
    "import os, sys, datetime, calendar, argparse\n",
    "\n",
    "from pyspark.sql import DataFrame\n",
    "\n",
    "import datetime\n",
    "from datetime import timedelta\n",
    "import os\n",
    "\n",
    "import pandas as pd\n",
    "import plotly as px"
   ]
  },
  {
   "cell_type": "code",
   "execution_count": 7,
   "id": "da46c644-b20e-4092-b2b1-e6c30e3c48ae",
   "metadata": {
    "execution": {
     "iopub.execute_input": "2023-03-05T17:34:00.981097Z",
     "iopub.status.busy": "2023-03-05T17:34:00.980914Z",
     "iopub.status.idle": "2023-03-05T17:34:01.045527Z",
     "shell.execute_reply": "2023-03-05T17:34:01.044935Z",
     "shell.execute_reply.started": "2023-03-05T17:34:00.981074Z"
    }
   },
   "outputs": [
    {
     "data": {
      "application/vnd.jupyter.widget-view+json": {
       "model_id": "a93f4c9889624da7a8b4cb15d7b701ac",
       "version_major": 2,
       "version_minor": 0
      },
      "text/plain": [
       "VBox()"
      ]
     },
     "metadata": {},
     "output_type": "display_data"
    },
    {
     "data": {
      "application/vnd.jupyter.widget-view+json": {
       "model_id": "",
       "version_major": 2,
       "version_minor": 0
      },
      "text/plain": [
       "FloatProgress(value=0.0, bar_style='info', description='Progress:', layout=Layout(height='25px', width='50%'),…"
      ]
     },
     "metadata": {},
     "output_type": "display_data"
    }
   ],
   "source": [
    "# spark = SparkSession.builder.appName(\"bda\").enableHiveSupport().getOrCreate()\n",
    "# sc = spark.sparkContext"
   ]
  },
  {
   "cell_type": "code",
   "execution_count": null,
   "id": "4047824b-133b-4006-8373-92949631476d",
   "metadata": {
    "execution": {
     "iopub.execute_input": "2023-03-05T17:58:59.242608Z",
     "iopub.status.busy": "2023-03-05T17:58:59.242345Z"
    },
    "tags": []
   },
   "outputs": [
    {
     "data": {
      "application/vnd.jupyter.widget-view+json": {
       "model_id": "897ded41168a46aaa8a933665f2491c8",
       "version_major": 2,
       "version_minor": 0
      },
      "text/plain": [
       "VBox()"
      ]
     },
     "metadata": {},
     "output_type": "display_data"
    },
    {
     "data": {
      "application/vnd.jupyter.widget-view+json": {
       "model_id": "",
       "version_major": 2,
       "version_minor": 0
      },
      "text/plain": [
       "FloatProgress(value=0.0, bar_style='info', description='Progress:', layout=Layout(height='25px', width='50%'),…"
      ]
     },
     "metadata": {},
     "output_type": "display_data"
    }
   ],
   "source": [
    "df = spark.read.option(\"header\", \"true\").option(\"inferSchema\", \"true\").csv('s3a://wimalasena-23-uom-cse-bda-data/delay_flights/')"
   ]
  },
  {
   "cell_type": "code",
   "execution_count": null,
   "id": "aa22531f-8657-45c8-adc5-87476ac72778",
   "metadata": {
    "execution": {
     "iopub.execute_input": "2023-03-05T17:59:08.578931Z",
     "iopub.status.busy": "2023-03-05T17:59:08.578752Z"
    },
    "tags": []
   },
   "outputs": [
    {
     "data": {
      "application/vnd.jupyter.widget-view+json": {
       "model_id": "89d594a1f95d4b81aa87abea0877f97e",
       "version_major": 2,
       "version_minor": 0
      },
      "text/plain": [
       "VBox()"
      ]
     },
     "metadata": {},
     "output_type": "display_data"
    },
    {
     "data": {
      "application/vnd.jupyter.widget-view+json": {
       "model_id": "",
       "version_major": 2,
       "version_minor": 0
      },
      "text/plain": [
       "FloatProgress(value=0.0, bar_style='info', description='Progress:', layout=Layout(height='25px', width='50%'),…"
      ]
     },
     "metadata": {},
     "output_type": "display_data"
    },
    {
     "name": "stdout",
     "output_type": "stream",
     "text": [
      "+-----+----+-----+----------+---------+-------+----------+-------+----------+-------------+---------+-------+-----------------+--------------+-------+--------+--------+------+----+--------+------+-------+---------+----------------+--------+------------+------------+--------+-------------+-----------------+\n",
      "|rowID|Year|Month|DayofMonth|DayOfWeek|DepTime|CRSDepTime|ArrTime|CRSArrTime|UniqueCarrier|FlightNum|TailNum|ActualElapsedTime|CRSElapsedTime|AirTime|ArrDelay|DepDelay|Origin|Dest|Distance|TaxiIn|TaxiOut|Cancelled|CancellationCode|Diverted|CarrierDelay|WeatherDelay|NASDelay|SecurityDelay|LateAircraftDelay|\n",
      "+-----+----+-----+----------+---------+-------+----------+-------+----------+-------------+---------+-------+-----------------+--------------+-------+--------+--------+------+----+--------+------+-------+---------+----------------+--------+------------+------------+--------+-------------+-----------------+\n",
      "|    1|2003|    6|        17|        2|   1310|      1255|   1612|      1615|           AA|     1362| N4YPAA|              122|           140|     93|      -3|      15|   ORD| JFK|     740|     6|     23|        0|               N|       0|        null|        null|    null|         null|             null|\n",
      "|    2|2003|    6|        20|        5|   1303|      1255|   1623|      1615|           AA|     1362| N4XBAA|              140|           140|    100|       8|       8|   ORD| JFK|     740|    11|     29|        0|               N|       0|        null|        null|    null|         null|             null|\n",
      "|    3|2003|    6|        22|        7|   1325|      1255|   1953|      1615|           AA|     1362| N569AA|              328|           140|    113|     218|      30|   ORD| JFK|     740|     9|    206|        0|               N|       0|           0|           0|     218|            0|                0|\n",
      "|    4|2003|    6|        23|        1|   1328|      1255|   1655|      1615|           AA|     1362| N4YUAA|              147|           140|    107|      40|      33|   ORD| JFK|     740|     8|     32|        0|               N|       0|           0|           0|      40|            0|                0|\n",
      "|    5|2003|    6|        25|        3|   1307|      1255|   1620|      1615|           AA|     1362| N519AA|              133|           140|    101|       5|      12|   ORD| JFK|     740|    12|     20|        0|               N|       0|        null|        null|    null|         null|             null|\n",
      "|    6|2003|    6|         5|        4|   1208|      1155|   1459|      1455|           AA|     1363| N4YTAA|              231|           240|    213|       4|      13|   BOS| DFW|    1562|     7|     11|        0|               N|       0|        null|        null|    null|         null|             null|\n",
      "|    7|2003|    6|         7|        6|   1207|      1155|   1451|      1455|           AA|     1363| N593AA|              224|           240|    203|      -4|      12|   BOS| DFW|    1562|     4|     17|        0|               N|       0|        null|        null|    null|         null|             null|\n",
      "|    8|2003|    6|         8|        7|   1206|      1155|   1445|      1455|           AA|     1363| N4WAAA|              219|           240|    204|     -10|      11|   BOS| DFW|    1562|     5|     10|        0|               N|       0|        null|        null|    null|         null|             null|\n",
      "|    9|2003|    6|        15|        7|   1202|      1155|   1504|      1455|           AA|     1363| N589AA|              242|           240|    216|       9|       7|   BOS| DFW|    1562|     8|     18|        0|               N|       0|        null|        null|    null|         null|             null|\n",
      "|   10|2003|    6|        23|        1|   1207|      1155|   1513|      1455|           AA|     1363| N4XNAA|              246|           240|    215|      18|      12|   BOS| DFW|    1562|    11|     20|        0|               N|       0|           8|           0|       6|            0|                4|\n",
      "|   11|2003|    6|        28|        6|   1209|      1155|   1511|      1455|           AA|     1363| N4XCAA|              242|           240|    209|      16|      14|   BOS| DFW|    1562|    18|     15|        0|               N|       0|           0|           0|       2|            0|               14|\n",
      "|   12|2003|    6|         2|        1|   1726|      1715|   2024|      2005|           AA|     1366| N584AA|              118|           110|     77|      19|      11|   COS| DFW|     592|    19|     22|        0|               N|       0|           0|           0|       8|            0|               11|\n",
      "|   13|2003|    6|         6|        5|   1748|      1715|   2029|      2005|           AA|     1366| N462AA|              101|           110|     82|      24|      33|   COS| DFW|     592|     8|     11|        0|               N|       0|           0|           0|       0|            0|               24|\n",
      "|   14|2003|    6|         9|        1|   1828|      1715|   2109|      2005|           AA|     1366| N530AA|              101|           110|     80|      64|      73|   COS| DFW|     592|     7|     14|        0|               N|       0|           0|           0|       3|            0|               61|\n",
      "|   15|2003|    6|        14|        6|   1724|      1715|   1958|      2005|           AA|     1366| N541AA|               94|           110|     72|      -7|       9|   COS| DFW|     592|     9|     13|        0|               N|       0|        null|        null|    null|         null|             null|\n",
      "|   16|2003|    6|        16|        1|   1747|      1715|   2042|      2005|           AA|     1366| N522AA|              115|           110|     77|      37|      32|   COS| DFW|     592|    26|     12|        0|               N|       0|           0|           0|       5|            0|               32|\n",
      "|   17|2003|    6|        19|        4|   1931|      1715|   2208|      2005|           AA|     1366| N570AA|               97|           110|     77|     123|     136|   COS| DFW|     592|     8|     12|        0|               N|       0|           0|           0|       0|            0|              123|\n",
      "|   18|2003|    6|        20|        5|   1847|      1715|   2128|      2005|           AA|     1366| N511AA|              101|           110|     79|      83|      92|   COS| DFW|     592|    10|     12|        0|               N|       0|           0|           0|       0|            0|               83|\n",
      "|   19|2003|    6|        21|        6|   1745|      1715|   2025|      2005|           AA|     1366| N587AA|              100|           110|     78|      20|      30|   COS| DFW|     592|     8|     14|        0|               N|       0|           0|           0|       0|            0|               20|\n",
      "|   20|2003|    6|        22|        7|   1724|      1715|   2003|      2005|           AA|     1366| N558AA|               99|           110|     77|      -2|       9|   COS| DFW|     592|    11|     11|        0|               N|       0|        null|        null|    null|         null|             null|\n",
      "+-----+----+-----+----------+---------+-------+----------+-------+----------+-------------+---------+-------+-----------------+--------------+-------+--------+--------+------+----+--------+------+-------+---------+----------------+--------+------------+------------+--------+-------------+-----------------+\n",
      "only showing top 20 rows"
     ]
    }
   ],
   "source": [
    "df.show()"
   ]
  },
  {
   "cell_type": "code",
   "execution_count": 10,
   "id": "e69e291c-edbd-4d47-a963-f300d89cb5d5",
   "metadata": {
    "collapsed": true,
    "execution": {
     "iopub.execute_input": "2023-03-05T17:34:10.783573Z",
     "iopub.status.busy": "2023-03-05T17:34:10.783315Z",
     "iopub.status.idle": "2023-03-05T17:34:11.014933Z",
     "shell.execute_reply": "2023-03-05T17:34:11.014100Z",
     "shell.execute_reply.started": "2023-03-05T17:34:10.783539Z"
    },
    "jupyter": {
     "outputs_hidden": true
    },
    "tags": []
   },
   "outputs": [
    {
     "data": {
      "application/vnd.jupyter.widget-view+json": {
       "model_id": "44977ab5a17944acabab8d9fa2baddc6",
       "version_major": 2,
       "version_minor": 0
      },
      "text/plain": [
       "VBox()"
      ]
     },
     "metadata": {},
     "output_type": "display_data"
    },
    {
     "data": {
      "application/vnd.jupyter.widget-view+json": {
       "model_id": "",
       "version_major": 2,
       "version_minor": 0
      },
      "text/plain": [
       "FloatProgress(value=0.0, bar_style='info', description='Progress:', layout=Layout(height='25px', width='50%'),…"
      ]
     },
     "metadata": {},
     "output_type": "display_data"
    },
    {
     "name": "stdout",
     "output_type": "stream",
     "text": [
      "root\n",
      " |-- rowID: integer (nullable = true)\n",
      " |-- Year: integer (nullable = true)\n",
      " |-- Month: integer (nullable = true)\n",
      " |-- DayofMonth: integer (nullable = true)\n",
      " |-- DayOfWeek: integer (nullable = true)\n",
      " |-- DepTime: integer (nullable = true)\n",
      " |-- CRSDepTime: integer (nullable = true)\n",
      " |-- ArrTime: integer (nullable = true)\n",
      " |-- CRSArrTime: integer (nullable = true)\n",
      " |-- UniqueCarrier: string (nullable = true)\n",
      " |-- FlightNum: integer (nullable = true)\n",
      " |-- TailNum: string (nullable = true)\n",
      " |-- ActualElapsedTime: integer (nullable = true)\n",
      " |-- CRSElapsedTime: integer (nullable = true)\n",
      " |-- AirTime: integer (nullable = true)\n",
      " |-- ArrDelay: integer (nullable = true)\n",
      " |-- DepDelay: integer (nullable = true)\n",
      " |-- Origin: string (nullable = true)\n",
      " |-- Dest: string (nullable = true)\n",
      " |-- Distance: integer (nullable = true)\n",
      " |-- TaxiIn: integer (nullable = true)\n",
      " |-- TaxiOut: integer (nullable = true)\n",
      " |-- Cancelled: integer (nullable = true)\n",
      " |-- CancellationCode: string (nullable = true)\n",
      " |-- Diverted: integer (nullable = true)\n",
      " |-- CarrierDelay: integer (nullable = true)\n",
      " |-- WeatherDelay: integer (nullable = true)\n",
      " |-- NASDelay: integer (nullable = true)\n",
      " |-- SecurityDelay: integer (nullable = true)\n",
      " |-- LateAircraftDelay: integer (nullable = true)"
     ]
    }
   ],
   "source": [
    "df.printSchema()"
   ]
  },
  {
   "cell_type": "code",
   "execution_count": 11,
   "id": "69bf006e-fca3-4c9c-8a3e-fa43f61905f0",
   "metadata": {
    "execution": {
     "iopub.execute_input": "2023-03-05T17:34:11.016059Z",
     "iopub.status.busy": "2023-03-05T17:34:11.015874Z",
     "iopub.status.idle": "2023-03-05T17:34:11.079225Z",
     "shell.execute_reply": "2023-03-05T17:34:11.078559Z",
     "shell.execute_reply.started": "2023-03-05T17:34:11.016020Z"
    },
    "tags": []
   },
   "outputs": [
    {
     "data": {
      "application/vnd.jupyter.widget-view+json": {
       "model_id": "d6d4292a52f54342927adf662a83c862",
       "version_major": 2,
       "version_minor": 0
      },
      "text/plain": [
       "VBox()"
      ]
     },
     "metadata": {},
     "output_type": "display_data"
    },
    {
     "data": {
      "application/vnd.jupyter.widget-view+json": {
       "model_id": "",
       "version_major": 2,
       "version_minor": 0
      },
      "text/plain": [
       "FloatProgress(value=0.0, bar_style='info', description='Progress:', layout=Layout(height='25px', width='50%'),…"
      ]
     },
     "metadata": {},
     "output_type": "display_data"
    }
   ],
   "source": [
    "def data_processing(input_data_path, output_data_path):\n",
    "    time_arr_1 = []\n",
    "    time_arr_2 = []\n",
    "    start_time_1 = datetime.datetime.now()\n",
    "    df = spark.read.option(\"header\", \"true\").option(\"inferSchema\", \"true\").csv(input_data_path)\n",
    "    end_time_1 = datetime.datetime.now()\n",
    "    # time_arr.append(('df_creation', str((end_time_1 - start_time_1).total_seconds() )))\n",
    "    print(('df_creation time : ', str((end_time_1 - start_time_1).total_seconds() )))\n",
    "    \n",
    "    df.createOrReplaceTempView(\"delay_flights\")\n",
    "    \n",
    "    final_process_df = None\n",
    "    for i in range(5):\n",
    "        start_time = datetime.datetime.now()\n",
    "        final_process_df =  spark.sql(\"SELECT Year, SUM(CarrierDelay) AS carrier_delay, SUM(NASDelay) AS nas_delay, SUM(WeatherDelay) AS weather_delay, SUM(LateAircraftDelay) AS late_aircraft_delay, SUM(SecurityDelay) AS security_delay FROM delay_flights WHERE Year >= 2003 AND Year <= 2010 GROUP BY Year\")\n",
    "        final_process_df.show()\n",
    "        end_time = datetime.datetime.now()\n",
    "        time_arr_1.append((f'{i+1}', str( (end_time - start_time).total_seconds() )))\n",
    "    \n",
    "    final_process_df = final_process_df.sort(col(\"Year\").asc())\n",
    "    # final_process_df.write.mode(\"overwrite\").option(\"header\",True).csv(f\"{output_data_path}/pors_op\")\n",
    "    \n",
    "    start_time = datetime.datetime.now()\n",
    "    process_df =  spark.sql(\"SELECT Year, SUM(CarrierDelay) AS carrier_delay FROM delay_flights WHERE Year >= 2003 AND Year <= 2010 GROUP BY Year\")\n",
    "    process_df.show()\n",
    "    end_time = datetime.datetime.now()\n",
    "    time_arr_2.append((f'CarrierDelay',  (end_time - start_time).total_seconds() ))\n",
    "\n",
    "    start_time = datetime.datetime.now()\n",
    "    process_df =  spark.sql(\"SELECT Year, SUM(NASDelay) AS nas_delay FROM delay_flights WHERE Year >= 2003 AND Year <= 2010 GROUP BY Year\")\n",
    "    process_df.show()\n",
    "    end_time = datetime.datetime.now()\n",
    "    time_arr_2.append((f'NASDelay',  (end_time - start_time).total_seconds() ))\n",
    "\n",
    "    start_time = datetime.datetime.now()\n",
    "    process_df =  spark.sql(\"SELECT Year, SUM(WeatherDelay) AS weather_delay FROM delay_flights WHERE Year >= 2003 AND Year <= 2010 GROUP BY Year\")\n",
    "    process_df.show()\n",
    "    end_time = datetime.datetime.now()\n",
    "    time_arr_2.append((f'WeatherDelay',  (end_time - start_time).total_seconds() ))\n",
    "\n",
    "    start_time = datetime.datetime.now()\n",
    "    process_df =  spark.sql(\"SELECT Year, SUM(LateAircraftDelay) AS late_aircraft_delay FROM delay_flights WHERE Year >= 2003 AND Year <= 2010 GROUP BY Year\")\n",
    "    process_df.show()\n",
    "    end_time = datetime.datetime.now()\n",
    "    time_arr_2.append((f'LateAircraftDelay',  (end_time - start_time).total_seconds() ))\n",
    "\n",
    "    start_time = datetime.datetime.now()\n",
    "    process_df =  spark.sql(\"SELECT Year, SUM(SecurityDelay) AS security_delay FROM delay_flights WHERE Year >= 2003 AND Year <= 2010 GROUP BY Year\")\n",
    "    process_df.show()\n",
    "    end_time = datetime.datetime.now()\n",
    "    time_arr_2.append((f'SecurityDelay',  (end_time - start_time).total_seconds() ))\n",
    "\n",
    "    columns = [\"key\",\"spark\"]\n",
    "    time_1_df = spark.createDataFrame(data=time_arr_1, schema = columns)\n",
    "    \n",
    "    columns = [\"key\",\"spark\"]\n",
    "    time_2_df = spark.createDataFrame(data=time_arr_2, schema = columns)\n",
    "\n",
    "    return final_process_df, time_1_df, time_2_df\n",
    "    # time_df.write.mode(\"overwrite\").option(\"header\",True).csv(f\"{output_data_path}/pros_time\")"
   ]
  },
  {
   "cell_type": "code",
   "execution_count": 12,
   "id": "5f46ed28-6e30-4110-8977-8757b49e0191",
   "metadata": {
    "collapsed": true,
    "execution": {
     "iopub.execute_input": "2023-03-05T17:34:11.080580Z",
     "iopub.status.busy": "2023-03-05T17:34:11.080332Z",
     "iopub.status.idle": "2023-03-05T17:34:22.858885Z",
     "shell.execute_reply": "2023-03-05T17:34:22.606612Z",
     "shell.execute_reply.started": "2023-03-05T17:34:11.080545Z"
    },
    "jupyter": {
     "outputs_hidden": true
    },
    "tags": []
   },
   "outputs": [
    {
     "data": {
      "application/vnd.jupyter.widget-view+json": {
       "model_id": "ac26b13fe95f4e1984865521ce197b3a",
       "version_major": 2,
       "version_minor": 0
      },
      "text/plain": [
       "VBox()"
      ]
     },
     "metadata": {},
     "output_type": "display_data"
    },
    {
     "data": {
      "application/vnd.jupyter.widget-view+json": {
       "model_id": "",
       "version_major": 2,
       "version_minor": 0
      },
      "text/plain": [
       "FloatProgress(value=0.0, bar_style='info', description='Progress:', layout=Layout(height='25px', width='50%'),…"
      ]
     },
     "metadata": {},
     "output_type": "display_data"
    },
    {
     "name": "stdout",
     "output_type": "stream",
     "text": [
      "('df_creation time : ', '1.866146')\n",
      "+----+-------------+---------+-------------+-------------------+--------------+\n",
      "|Year|carrier_delay|nas_delay|weather_delay|late_aircraft_delay|security_delay|\n",
      "+----+-------------+---------+-------------+-------------------+--------------+\n",
      "|2003|         1577|     1856|          660|               1986|             0|\n",
      "|2007|         1835|     4269|          452|               5726|            12|\n",
      "|2010|         1992|     3568|          240|               4233|             0|\n",
      "|2006|         1540|      869|          384|               2295|             0|\n",
      "|2004|         2064|      493|          287|               1451|             0|\n",
      "|2005|         1436|      680|          267|               2332|             0|\n",
      "|2009|         1191|     1963|           24|               1819|             0|\n",
      "|2008|         1298|     1410|          305|               2069|             0|\n",
      "+----+-------------+---------+-------------+-------------------+--------------+\n",
      "\n",
      "+----+-------------+---------+-------------+-------------------+--------------+\n",
      "|Year|carrier_delay|nas_delay|weather_delay|late_aircraft_delay|security_delay|\n",
      "+----+-------------+---------+-------------+-------------------+--------------+\n",
      "|2003|         1577|     1856|          660|               1986|             0|\n",
      "|2007|         1835|     4269|          452|               5726|            12|\n",
      "|2010|         1992|     3568|          240|               4233|             0|\n",
      "|2006|         1540|      869|          384|               2295|             0|\n",
      "|2004|         2064|      493|          287|               1451|             0|\n",
      "|2005|         1436|      680|          267|               2332|             0|\n",
      "|2009|         1191|     1963|           24|               1819|             0|\n",
      "|2008|         1298|     1410|          305|               2069|             0|\n",
      "+----+-------------+---------+-------------+-------------------+--------------+\n",
      "\n",
      "+----+-------------+---------+-------------+-------------------+--------------+\n",
      "|Year|carrier_delay|nas_delay|weather_delay|late_aircraft_delay|security_delay|\n",
      "+----+-------------+---------+-------------+-------------------+--------------+\n",
      "|2003|         1577|     1856|          660|               1986|             0|\n",
      "|2007|         1835|     4269|          452|               5726|            12|\n",
      "|2010|         1992|     3568|          240|               4233|             0|\n",
      "|2006|         1540|      869|          384|               2295|             0|\n",
      "|2004|         2064|      493|          287|               1451|             0|\n",
      "|2005|         1436|      680|          267|               2332|             0|\n",
      "|2009|         1191|     1963|           24|               1819|             0|\n",
      "|2008|         1298|     1410|          305|               2069|             0|\n",
      "+----+-------------+---------+-------------+-------------------+--------------+\n",
      "\n",
      "+----+-------------+---------+-------------+-------------------+--------------+\n",
      "|Year|carrier_delay|nas_delay|weather_delay|late_aircraft_delay|security_delay|\n",
      "+----+-------------+---------+-------------+-------------------+--------------+\n",
      "|2003|         1577|     1856|          660|               1986|             0|\n",
      "|2007|         1835|     4269|          452|               5726|            12|\n",
      "|2010|         1992|     3568|          240|               4233|             0|\n",
      "|2006|         1540|      869|          384|               2295|             0|\n",
      "|2004|         2064|      493|          287|               1451|             0|\n",
      "|2005|         1436|      680|          267|               2332|             0|\n",
      "|2009|         1191|     1963|           24|               1819|             0|\n",
      "|2008|         1298|     1410|          305|               2069|             0|\n",
      "+----+-------------+---------+-------------+-------------------+--------------+\n",
      "\n",
      "+----+-------------+---------+-------------+-------------------+--------------+\n",
      "|Year|carrier_delay|nas_delay|weather_delay|late_aircraft_delay|security_delay|\n",
      "+----+-------------+---------+-------------+-------------------+--------------+\n",
      "|2003|         1577|     1856|          660|               1986|             0|\n",
      "|2007|         1835|     4269|          452|               5726|            12|\n",
      "|2010|         1992|     3568|          240|               4233|             0|\n",
      "|2006|         1540|      869|          384|               2295|             0|\n",
      "|2004|         2064|      493|          287|               1451|             0|\n",
      "|2005|         1436|      680|          267|               2332|             0|\n",
      "|2009|         1191|     1963|           24|               1819|             0|\n",
      "|2008|         1298|     1410|          305|               2069|             0|\n",
      "+----+-------------+---------+-------------+-------------------+--------------+\n",
      "\n",
      "+----+-------------+\n",
      "|Year|carrier_delay|\n",
      "+----+-------------+\n",
      "|2003|         1577|\n",
      "|2007|         1835|\n",
      "|2010|         1992|\n",
      "|2006|         1540|\n",
      "|2004|         2064|\n",
      "|2005|         1436|\n",
      "|2009|         1191|\n",
      "|2008|         1298|\n",
      "+----+-------------+\n",
      "\n",
      "+----+---------+\n",
      "|Year|nas_delay|\n",
      "+----+---------+\n",
      "|2003|     1856|\n",
      "|2007|     4269|\n",
      "|2010|     3568|\n",
      "|2006|      869|\n",
      "|2004|      493|\n",
      "|2005|      680|\n",
      "|2009|     1963|\n",
      "|2008|     1410|\n",
      "+----+---------+\n",
      "\n",
      "+----+-------------+\n",
      "|Year|weather_delay|\n",
      "+----+-------------+\n",
      "|2003|          660|\n",
      "|2007|          452|\n",
      "|2010|          240|\n",
      "|2006|          384|\n",
      "|2004|          287|\n",
      "|2005|          267|\n",
      "|2009|           24|\n",
      "|2008|          305|\n",
      "+----+-------------+\n",
      "\n",
      "+----+-------------------+\n",
      "|Year|late_aircraft_delay|\n",
      "+----+-------------------+\n",
      "|2003|               1986|\n",
      "|2007|               5726|\n",
      "|2010|               4233|\n",
      "|2006|               2295|\n",
      "|2004|               1451|\n",
      "|2005|               2332|\n",
      "|2009|               1819|\n",
      "|2008|               2069|\n",
      "+----+-------------------+\n",
      "\n",
      "+----+--------------+\n",
      "|Year|security_delay|\n",
      "+----+--------------+\n",
      "|2003|             0|\n",
      "|2007|            12|\n",
      "|2010|             0|\n",
      "|2006|             0|\n",
      "|2004|             0|\n",
      "|2005|             0|\n",
      "|2009|             0|\n",
      "|2008|             0|\n",
      "+----+--------------+"
     ]
    }
   ],
   "source": [
    "results_df, spark_time_1_df, spark_time_2_df = data_processing('s3a://wimalasena-23-uom-cse-bda-data/delay_flights/','s3a://wimalasena-23-uom-cse-bda-data/outputs/spark_op')"
   ]
  },
  {
   "cell_type": "code",
   "execution_count": 13,
   "id": "0a931d9f-171c-4485-b84a-51981e0241ec",
   "metadata": {
    "execution": {
     "iopub.execute_input": "2023-03-05T17:34:22.875104Z",
     "iopub.status.busy": "2023-03-05T17:34:22.874236Z",
     "iopub.status.idle": "2023-03-05T17:34:24.736258Z",
     "shell.execute_reply": "2023-03-05T17:34:24.523460Z",
     "shell.execute_reply.started": "2023-03-05T17:34:22.875074Z"
    },
    "tags": []
   },
   "outputs": [
    {
     "data": {
      "application/vnd.jupyter.widget-view+json": {
       "model_id": "5d8122c7d25b4e38a7b1df6db9fe9818",
       "version_major": 2,
       "version_minor": 0
      },
      "text/plain": [
       "VBox()"
      ]
     },
     "metadata": {},
     "output_type": "display_data"
    },
    {
     "data": {
      "application/vnd.jupyter.widget-view+json": {
       "model_id": "",
       "version_major": 2,
       "version_minor": 0
      },
      "text/plain": [
       "FloatProgress(value=0.0, bar_style='info', description='Progress:', layout=Layout(height='25px', width='50%'),…"
      ]
     },
     "metadata": {},
     "output_type": "display_data"
    }
   ],
   "source": [
    "def conv_1(df):    \n",
    "    col = df.columns\n",
    "    data = [(i['Year'], i['carrier_delay'], i['nas_delay'], i['weather_delay'], i['late_aircraft_delay'], i['security_delay'] ) for i in df.collect()]\n",
    "    df = pd.DataFrame(data=data, columns = col)\n",
    "    return df\n",
    "\n",
    "def conv_2(df):    \n",
    "    col = df.columns\n",
    "    data = [(i['key'], i['spark'] ) for i in df.collect()]\n",
    "    df = pd.DataFrame(data=data, columns = col)\n",
    "    return df"
   ]
  },
  {
   "cell_type": "code",
   "execution_count": 14,
   "id": "5797fefa-fd72-4294-91ee-f4ab974d8a84",
   "metadata": {
    "execution": {
     "iopub.execute_input": "2023-03-05T17:34:24.805973Z",
     "iopub.status.busy": "2023-03-05T17:34:24.805734Z",
     "iopub.status.idle": "2023-03-05T17:34:26.097569Z",
     "shell.execute_reply": "2023-03-05T17:34:26.096945Z",
     "shell.execute_reply.started": "2023-03-05T17:34:24.805949Z"
    },
    "tags": []
   },
   "outputs": [
    {
     "data": {
      "application/vnd.jupyter.widget-view+json": {
       "model_id": "47e08998b3a34114b456c2b5a0c87242",
       "version_major": 2,
       "version_minor": 0
      },
      "text/plain": [
       "VBox()"
      ]
     },
     "metadata": {},
     "output_type": "display_data"
    },
    {
     "data": {
      "application/vnd.jupyter.widget-view+json": {
       "model_id": "",
       "version_major": 2,
       "version_minor": 0
      },
      "text/plain": [
       "FloatProgress(value=0.0, bar_style='info', description='Progress:', layout=Layout(height='25px', width='50%'),…"
      ]
     },
     "metadata": {},
     "output_type": "display_data"
    }
   ],
   "source": [
    "col = results_df.columns\n",
    "data = [(i['Year'], i['carrier_delay'], i['nas_delay'], i['weather_delay'], i['late_aircraft_delay'], i['security_delay'] ) for i in results_df.collect()]\n",
    "df = pd.DataFrame(data=data, columns = col)"
   ]
  },
  {
   "cell_type": "code",
   "execution_count": 15,
   "id": "8496de3a-6a6a-4184-a427-b8274bdfcca7",
   "metadata": {
    "execution": {
     "iopub.execute_input": "2023-03-05T17:34:40.073055Z",
     "iopub.status.busy": "2023-03-05T17:34:40.072788Z",
     "iopub.status.idle": "2023-03-05T17:34:40.358506Z",
     "shell.execute_reply": "2023-03-05T17:34:40.357443Z",
     "shell.execute_reply.started": "2023-03-05T17:34:40.073028Z"
    },
    "tags": []
   },
   "outputs": [
    {
     "data": {
      "application/vnd.jupyter.widget-view+json": {
       "model_id": "90298f0eb3cd4c48b28e12832f32d18b",
       "version_major": 2,
       "version_minor": 0
      },
      "text/plain": [
       "VBox()"
      ]
     },
     "metadata": {},
     "output_type": "display_data"
    },
    {
     "data": {
      "application/vnd.jupyter.widget-view+json": {
       "model_id": "",
       "version_major": 2,
       "version_minor": 0
      },
      "text/plain": [
       "FloatProgress(value=0.0, bar_style='info', description='Progress:', layout=Layout(height='25px', width='50%'),…"
      ]
     },
     "metadata": {},
     "output_type": "display_data"
    }
   ],
   "source": [
    "results_df = conv_1(results_df)"
   ]
  },
  {
   "cell_type": "code",
   "execution_count": 19,
   "id": "21f8c514-332a-4c0a-ad30-a7361ceb1f7a",
   "metadata": {
    "execution": {
     "iopub.execute_input": "2023-03-05T17:35:57.537312Z",
     "iopub.status.busy": "2023-03-05T17:35:57.537058Z",
     "iopub.status.idle": "2023-03-05T17:35:57.816517Z",
     "shell.execute_reply": "2023-03-05T17:35:57.815918Z",
     "shell.execute_reply.started": "2023-03-05T17:35:57.537287Z"
    },
    "tags": []
   },
   "outputs": [
    {
     "data": {
      "application/vnd.jupyter.widget-view+json": {
       "model_id": "702e25d80d3f4900ab8410e65dab4bea",
       "version_major": 2,
       "version_minor": 0
      },
      "text/plain": [
       "VBox()"
      ]
     },
     "metadata": {},
     "output_type": "display_data"
    },
    {
     "data": {
      "application/vnd.jupyter.widget-view+json": {
       "model_id": "",
       "version_major": 2,
       "version_minor": 0
      },
      "text/plain": [
       "FloatProgress(value=0.0, bar_style='info', description='Progress:', layout=Layout(height='25px', width='50%'),…"
      ]
     },
     "metadata": {},
     "output_type": "display_data"
    }
   ],
   "source": [
    "spark_time_1_df = conv_2(spark_time_1_df)\n",
    "spark_time_2_df = conv_2(spark_time_2_df)"
   ]
  },
  {
   "cell_type": "code",
   "execution_count": 20,
   "id": "abe4a99f-41a7-4d75-b9a2-5f93b65e995d",
   "metadata": {
    "execution": {
     "iopub.execute_input": "2023-03-05T17:36:08.528834Z",
     "iopub.status.busy": "2023-03-05T17:36:08.528599Z",
     "iopub.status.idle": "2023-03-05T17:36:08.594929Z",
     "shell.execute_reply": "2023-03-05T17:36:08.594016Z",
     "shell.execute_reply.started": "2023-03-05T17:36:08.528809Z"
    },
    "tags": []
   },
   "outputs": [
    {
     "data": {
      "application/vnd.jupyter.widget-view+json": {
       "model_id": "a3a85c60fb674e25a14f7b634712fb6c",
       "version_major": 2,
       "version_minor": 0
      },
      "text/plain": [
       "VBox()"
      ]
     },
     "metadata": {},
     "output_type": "display_data"
    },
    {
     "data": {
      "application/vnd.jupyter.widget-view+json": {
       "model_id": "",
       "version_major": 2,
       "version_minor": 0
      },
      "text/plain": [
       "FloatProgress(value=0.0, bar_style='info', description='Progress:', layout=Layout(height='25px', width='50%'),…"
      ]
     },
     "metadata": {},
     "output_type": "display_data"
    },
    {
     "name": "stdout",
     "output_type": "stream",
     "text": [
      "  key  hive\n",
      "0   1  9.51\n",
      "1   2  8.49\n",
      "2   3  6.64\n",
      "3   4  6.11\n",
      "4   5  6.73"
     ]
    }
   ],
   "source": [
    "## Hive 5 itr\n",
    "columns = [\"key\",\"hive\"]\n",
    "_times = [9.51, 8.49, 6.64, 6.11, 6.73]\n",
    "time_arr = [(f'{i+1}', t) for i, t in zip(range(5), _times)]\n",
    "hive_time_1_df = pd.DataFrame(data=time_arr, columns = columns)\n",
    "hive_time_1_df.head()"
   ]
  },
  {
   "cell_type": "code",
   "execution_count": 21,
   "id": "628429bb-e18b-4efd-a58a-f0f4f54a2715",
   "metadata": {
    "execution": {
     "iopub.execute_input": "2023-03-05T17:36:09.678088Z",
     "iopub.status.busy": "2023-03-05T17:36:09.677834Z",
     "iopub.status.idle": "2023-03-05T17:36:09.737626Z",
     "shell.execute_reply": "2023-03-05T17:36:09.737037Z",
     "shell.execute_reply.started": "2023-03-05T17:36:09.678062Z"
    }
   },
   "outputs": [
    {
     "data": {
      "application/vnd.jupyter.widget-view+json": {
       "model_id": "5238831eb5e64e0f965767d006f12785",
       "version_major": 2,
       "version_minor": 0
      },
      "text/plain": [
       "VBox()"
      ]
     },
     "metadata": {},
     "output_type": "display_data"
    },
    {
     "data": {
      "application/vnd.jupyter.widget-view+json": {
       "model_id": "",
       "version_major": 2,
       "version_minor": 0
      },
      "text/plain": [
       "FloatProgress(value=0.0, bar_style='info', description='Progress:', layout=Layout(height='25px', width='50%'),…"
      ]
     },
     "metadata": {},
     "output_type": "display_data"
    },
    {
     "name": "stdout",
     "output_type": "stream",
     "text": [
      "                 key  hive\n",
      "0       CarrierDelay  9.40\n",
      "1           NASDelay  7.15\n",
      "2       WeatherDelay  6.17\n",
      "3  LateAircraftDelay  6.80\n",
      "4      SecurityDelay  6.89"
     ]
    }
   ],
   "source": [
    "## Hive \n",
    "columns = [\"key\",\"hive\"]\n",
    "_times = [9.4, 7.15, 6.17, 6.8, 6.89]\n",
    "_col = ['CarrierDelay', 'NASDelay', 'WeatherDelay', 'LateAircraftDelay', 'SecurityDelay']\n",
    "time_arr = [(i, t) for i, t in zip(_col, _times)]\n",
    "hive_time_2_df = pd.DataFrame(data=time_arr, columns = columns)\n",
    "hive_time_2_df.head()"
   ]
  },
  {
   "cell_type": "code",
   "execution_count": 24,
   "id": "c0a39f6d-15a7-407b-b504-27977f9abc11",
   "metadata": {
    "execution": {
     "iopub.execute_input": "2023-03-05T17:36:54.182511Z",
     "iopub.status.busy": "2023-03-05T17:36:54.182283Z",
     "iopub.status.idle": "2023-03-05T17:36:54.251461Z",
     "shell.execute_reply": "2023-03-05T17:36:54.250699Z",
     "shell.execute_reply.started": "2023-03-05T17:36:54.182486Z"
    }
   },
   "outputs": [
    {
     "data": {
      "application/vnd.jupyter.widget-view+json": {
       "model_id": "f53483d5150e40b7a01787eef83292c0",
       "version_major": 2,
       "version_minor": 0
      },
      "text/plain": [
       "VBox()"
      ]
     },
     "metadata": {},
     "output_type": "display_data"
    },
    {
     "data": {
      "application/vnd.jupyter.widget-view+json": {
       "model_id": "",
       "version_major": 2,
       "version_minor": 0
      },
      "text/plain": [
       "FloatProgress(value=0.0, bar_style='info', description='Progress:', layout=Layout(height='25px', width='50%'),…"
      ]
     },
     "metadata": {},
     "output_type": "display_data"
    },
    {
     "name": "stdout",
     "output_type": "stream",
     "text": [
      "  key     spark  hive\n",
      "0   1  2.907649  9.51\n",
      "1   2  0.868239  8.49\n",
      "2   3  0.583797  6.64\n",
      "3   4  0.372971  6.11\n",
      "4   5  0.385213  6.73"
     ]
    }
   ],
   "source": [
    "five_itr_df = pd.merge(spark_time_1_df, hive_time_1_df, on='key')\n",
    "five_itr_df.head()"
   ]
  },
  {
   "cell_type": "code",
   "execution_count": 22,
   "id": "b01aadad-9e77-4c91-b356-0f875e99a58a",
   "metadata": {
    "execution": {
     "iopub.execute_input": "2023-03-05T17:36:12.540176Z",
     "iopub.status.busy": "2023-03-05T17:36:12.539915Z",
     "iopub.status.idle": "2023-03-05T17:36:12.614534Z",
     "shell.execute_reply": "2023-03-05T17:36:12.613772Z",
     "shell.execute_reply.started": "2023-03-05T17:36:12.540136Z"
    }
   },
   "outputs": [
    {
     "data": {
      "application/vnd.jupyter.widget-view+json": {
       "model_id": "d902c6f1c5414e3ebd7cbd44608fdb66",
       "version_major": 2,
       "version_minor": 0
      },
      "text/plain": [
       "VBox()"
      ]
     },
     "metadata": {},
     "output_type": "display_data"
    },
    {
     "data": {
      "application/vnd.jupyter.widget-view+json": {
       "model_id": "",
       "version_major": 2,
       "version_minor": 0
      },
      "text/plain": [
       "FloatProgress(value=0.0, bar_style='info', description='Progress:', layout=Layout(height='25px', width='50%'),…"
      ]
     },
     "metadata": {},
     "output_type": "display_data"
    },
    {
     "name": "stdout",
     "output_type": "stream",
     "text": [
      "                 key     spark  hive\n",
      "0       CarrierDelay  0.614505  9.40\n",
      "1           NASDelay  0.362413  7.15\n",
      "2       WeatherDelay  0.353601  6.17\n",
      "3  LateAircraftDelay  0.378938  6.80\n",
      "4      SecurityDelay  0.444644  6.89"
     ]
    }
   ],
   "source": [
    "five_qu_df = pd.merge(spark_time_2_df, hive_time_2_df, on='key')\n",
    "five_qu_df.head()"
   ]
  },
  {
   "cell_type": "code",
   "execution_count": 29,
   "id": "4016b426-d24d-488a-b06c-2e760205b498",
   "metadata": {
    "execution": {
     "iopub.execute_input": "2023-03-05T17:38:16.275458Z",
     "iopub.status.busy": "2023-03-05T17:38:16.275215Z",
     "iopub.status.idle": "2023-03-05T17:38:16.546352Z",
     "shell.execute_reply": "2023-03-05T17:38:16.545510Z",
     "shell.execute_reply.started": "2023-03-05T17:38:16.275432Z"
    },
    "tags": []
   },
   "outputs": [
    {
     "data": {
      "application/vnd.jupyter.widget-view+json": {
       "model_id": "529814d524e149a28245723563ffdc6c",
       "version_major": 2,
       "version_minor": 0
      },
      "text/plain": [
       "VBox()"
      ]
     },
     "metadata": {},
     "output_type": "display_data"
    },
    {
     "data": {
      "application/vnd.jupyter.widget-view+json": {
       "model_id": "",
       "version_major": 2,
       "version_minor": 0
      },
      "text/plain": [
       "FloatProgress(value=0.0, bar_style='info', description='Progress:', layout=Layout(height='25px', width='50%'),…"
      ]
     },
     "metadata": {},
     "output_type": "display_data"
    }
   ],
   "source": [
    "import plotly.graph_objects as go\n",
    "import numpy as np\n",
    "\n",
    "x1 = list(five_itr_df['key'])\n",
    "y1 = list(five_itr_df['hive'])\n",
    "y2 = list([float(i) for i in five_itr_df['spark']])\n",
    "\n",
    "fig = go.Figure()\n",
    "fig.add_trace(go.Bar(\n",
    "    x=x1,\n",
    "    y=y1,\n",
    "    name='HiveQL',\n",
    "    marker_color='lightblue'\n",
    "))\n",
    "fig.add_trace(go.Bar(\n",
    "    x=x1,\n",
    "    y=y2,\n",
    "    name='Spark-SQL',\n",
    "    marker_color='yellowgreen'\n",
    "))\n",
    "\n",
    "fig.add_hline(y=np.mean(y1), line_dash=\"dot\", annotation_text=\"Mean time - HiveQL\")\n",
    "fig.add_hline(y=np.mean(y2), line_dash=\"dot\", annotation_text=\"Mean time - Spark-SQL\")\n",
    "\n",
    "# Here we modify the tickangle of the xaxis, resulting in rotated labels.\n",
    "fig.update_layout(barmode='group', xaxis_tickangle=-45,\n",
    "    xaxis_title=\"Number of Iteration\",\n",
    "    yaxis_title=\"Running time (S)\")\n",
    "fig.show()"
   ]
  },
  {
   "cell_type": "code",
   "execution_count": null,
   "id": "09462e85-fafe-4271-a282-26f9c32d5369",
   "metadata": {},
   "outputs": [],
   "source": []
  },
  {
   "cell_type": "code",
   "execution_count": 30,
   "id": "ef9038c8-b6af-43eb-954d-eaeeba52853e",
   "metadata": {
    "execution": {
     "iopub.execute_input": "2023-03-05T17:38:17.194323Z",
     "iopub.status.busy": "2023-03-05T17:38:17.194088Z",
     "iopub.status.idle": "2023-03-05T17:38:17.457163Z",
     "shell.execute_reply": "2023-03-05T17:38:17.456545Z",
     "shell.execute_reply.started": "2023-03-05T17:38:17.194299Z"
    },
    "tags": []
   },
   "outputs": [
    {
     "data": {
      "application/vnd.jupyter.widget-view+json": {
       "model_id": "717be41ac9574bfa93f7ff53e1d2e046",
       "version_major": 2,
       "version_minor": 0
      },
      "text/plain": [
       "VBox()"
      ]
     },
     "metadata": {},
     "output_type": "display_data"
    },
    {
     "data": {
      "application/vnd.jupyter.widget-view+json": {
       "model_id": "",
       "version_major": 2,
       "version_minor": 0
      },
      "text/plain": [
       "FloatProgress(value=0.0, bar_style='info', description='Progress:', layout=Layout(height='25px', width='50%'),…"
      ]
     },
     "metadata": {},
     "output_type": "display_data"
    }
   ],
   "source": [
    "x2 = list(five_qu_df['key'])\n",
    "y1 = list(five_qu_df['hive'])\n",
    "y2 = list([float(i) for i in five_qu_df['spark']])\n",
    "\n",
    "fig = go.Figure()\n",
    "fig.add_trace(go.Bar(\n",
    "    x=x2,\n",
    "    y=y1,\n",
    "    name='HiveQL',\n",
    "    marker_color='lightblue'\n",
    "))\n",
    "fig.add_trace(go.Bar(\n",
    "    x=x2,\n",
    "    y=y2,\n",
    "    name='Spark-SQL',\n",
    "    marker_color='yellowgreen'\n",
    "))\n",
    "\n",
    "fig.add_hline(y=np.mean(y1), line_dash=\"dot\", annotation_text=\"Mean time - HiveQL\")\n",
    "fig.add_hline(y=np.mean(y2), line_dash=\"dot\", annotation_text=\"Mean time - Spark-SQL\")\n",
    "\n",
    "# Here we modify the tickangle of the xaxis, resulting in rotated labels.\n",
    "fig.update_layout(barmode='group', xaxis_tickangle=-45, title=\"Time taken by\")\n",
    "fig.show()"
   ]
  },
  {
   "cell_type": "code",
   "execution_count": null,
   "id": "5bdae7bb-195f-461a-bbfe-71e97b5a92c7",
   "metadata": {
    "tags": []
   },
   "outputs": [],
   "source": [
    "x3 = list(results_df['Year'])\n",
    "y1 = list([float(i) for i in results_df['carrier_delay']])\n",
    "y2 = list([float(i) for i in results_df['nas_delay']])\n",
    "y3 = list([float(i) for i in results_df['weather_delay']])\n",
    "y4 = list([float(i) for i in results_df['late_aircraft_delay']])\n",
    "y5 = list([float(i) for i in results_df['security_delay']])\n",
    "\n",
    "fig = go.Figure()\n",
    "fig.add_trace(go.Bar(\n",
    "    x=x3,\n",
    "    y=y1,\n",
    "    name='carrier_delay'\n",
    "))\n",
    "fig.add_trace(go.Bar(\n",
    "    x=x3,\n",
    "    y=y2,\n",
    "    name='nas_delay'\n",
    "))\n",
    "fig.add_trace(go.Bar(\n",
    "    x=x3,\n",
    "    y=y3,\n",
    "    name='weather_delay'\n",
    "))\n",
    "fig.add_trace(go.Bar(\n",
    "    x=x3,\n",
    "    y=y4,\n",
    "    name='late_aircraft_delay'\n",
    "))\n",
    "fig.add_trace(go.Bar(\n",
    "    x=x3,\n",
    "    y=y5,\n",
    "    name='security_delay'\n",
    "))\n",
    "\n",
    "fig.add_hline(y=np.mean(y1), line_dash=\"dot\", annotation_text=\"Mean time - carrier_delay\")\n",
    "fig.add_hline(y=np.mean(y2), line_dash=\"dot\", annotation_text=\"Mean time - nas_delay\")\n",
    "fig.add_hline(y=np.mean(y3), line_dash=\"dot\", annotation_text=\"Mean time - weather_delay\")\n",
    "fig.add_hline(y=np.mean(y4), line_dash=\"dot\", annotation_text=\"Mean time - late_aircraft_delay\")\n",
    "fig.add_hline(y=np.mean(y5), line_dash=\"dot\", annotation_text=\"Mean time - security_delay\")\n",
    "\n",
    "# Here we modify the tickangle of the xaxis, resulting in rotated labels.\n",
    "fig.update_layout(barmode='group', xaxis_tickangle=-45)\n",
    "fig.show()"
   ]
  },
  {
   "cell_type": "code",
   "execution_count": null,
   "id": "63100391-405a-45fa-9d4d-bbfacae7d708",
   "metadata": {},
   "outputs": [],
   "source": []
  },
  {
   "cell_type": "code",
   "execution_count": null,
   "id": "c32d87b3-dc37-4d8e-a755-03d1c1eff0ef",
   "metadata": {},
   "outputs": [],
   "source": []
  }
 ],
 "metadata": {
  "kernelspec": {
   "display_name": "PySpark",
   "language": "python",
   "name": "pysparkkernel"
  },
  "language_info": {
   "codemirror_mode": {
    "name": "python",
    "version": 3
   },
   "file_extension": ".py",
   "mimetype": "text/x-python",
   "name": "pyspark",
   "pygments_lexer": "python3"
  }
 },
 "nbformat": 4,
 "nbformat_minor": 5
}
